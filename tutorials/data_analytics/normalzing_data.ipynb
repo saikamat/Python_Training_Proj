{
 "cells": [
  {
   "cell_type": "markdown",
   "metadata": {},
   "source": [
    "### minmax scaler tryout\n",
    "converting the input data into array is important."
   ]
  },
  {
   "cell_type": "code",
   "execution_count": 11,
   "metadata": {},
   "outputs": [
    {
     "name": "stdout",
     "output_type": "stream",
     "text": [
      "[[0.   ]\n",
      " [0.125]\n",
      " [1.   ]]\n"
     ]
    }
   ],
   "source": [
    "from sklearn.preprocessing import MinMaxScaler\n",
    "import numpy as np\n",
    "\n",
    "## convert into numpy array\n",
    "weights = np.array([[120.0],[130.0],[200.0]])\n",
    "\n",
    "scaler = MinMaxScaler()\n",
    "rescaled_weights = scaler.fit_transform(weights)\n",
    "\n",
    "print(rescaled_weights)"
   ]
  },
  {
   "cell_type": "markdown",
   "metadata": {},
   "source": [
    "#### using same strategy for CSV files"
   ]
  },
  {
   "cell_type": "code",
   "execution_count": 22,
   "metadata": {},
   "outputs": [
    {
     "name": "stdout",
     "output_type": "stream",
     "text": [
      "[[ 20 100]\n",
      " [ 30 100]\n",
      " [ 30 200]]\n",
      "[[0. 0.]\n",
      " [1. 0.]\n",
      " [1. 1.]]\n"
     ]
    },
    {
     "name": "stderr",
     "output_type": "stream",
     "text": [
      "c:\\users\\sai kamat\\appdata\\local\\programs\\python\\python35\\lib\\site-packages\\sklearn\\utils\\validation.py:475: DataConversionWarning: Data with input dtype int64 was converted to float64 by MinMaxScaler.\n",
      "  warnings.warn(msg, DataConversionWarning)\n"
     ]
    }
   ],
   "source": [
    "from sklearn.preprocessing import MinMaxScaler\n",
    "import numpy as np\n",
    "import pandas as pd\n",
    "\n",
    "weights_csv = pd.read_csv(\"D:\\DDOS\\def - Copy.csv\")\n",
    "weights = weights_csv.values\n",
    "\n",
    "type(weights)\n",
    "\n",
    "print(weights)\n",
    "\n",
    "scaler = MinMaxScaler()\n",
    "rescaled_weights = scaler.fit_transform(weights)\n",
    "\n",
    "print(rescaled_weights)"
   ]
  }
 ],
 "metadata": {
  "kernelspec": {
   "display_name": "Python 3",
   "language": "python",
   "name": "python3"
  },
  "language_info": {
   "codemirror_mode": {
    "name": "ipython",
    "version": 3
   },
   "file_extension": ".py",
   "mimetype": "text/x-python",
   "name": "python",
   "nbconvert_exporter": "python",
   "pygments_lexer": "ipython3",
   "version": "3.5.2"
  }
 },
 "nbformat": 4,
 "nbformat_minor": 2
}
